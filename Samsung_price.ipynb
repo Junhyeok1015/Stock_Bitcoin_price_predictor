{
 "cells": [
  {
   "cell_type": "code",
   "execution_count": 268,
   "metadata": {},
   "outputs": [],
   "source": [
    "import pandas as pd\n",
    "import numpy as np\n",
    "import matplotlib.pyplot as plt\n",
    "from keras.models import Sequential\n",
    "from keras.layers import LSTM, Dense, Activation\n",
    "import datetime"
   ]
  },
  {
   "cell_type": "markdown",
   "metadata": {},
   "source": [
    "# Load Dataset"
   ]
  },
  {
   "cell_type": "code",
   "execution_count": 269,
   "metadata": {},
   "outputs": [
    {
     "data": {
      "text/html": [
       "<div>\n",
       "<style scoped>\n",
       "    .dataframe tbody tr th:only-of-type {\n",
       "        vertical-align: middle;\n",
       "    }\n",
       "\n",
       "    .dataframe tbody tr th {\n",
       "        vertical-align: top;\n",
       "    }\n",
       "\n",
       "    .dataframe thead th {\n",
       "        text-align: right;\n",
       "    }\n",
       "</style>\n",
       "<table border=\"1\" class=\"dataframe\">\n",
       "  <thead>\n",
       "    <tr style=\"text-align: right;\">\n",
       "      <th></th>\n",
       "      <th>Date</th>\n",
       "      <th>Open</th>\n",
       "      <th>High</th>\n",
       "      <th>Low</th>\n",
       "      <th>Close</th>\n",
       "      <th>Adj Close</th>\n",
       "      <th>Volume</th>\n",
       "    </tr>\n",
       "  </thead>\n",
       "  <tbody>\n",
       "    <tr>\n",
       "      <th>0</th>\n",
       "      <td>2016-01-25</td>\n",
       "      <td>23440.0</td>\n",
       "      <td>23520.0</td>\n",
       "      <td>23120.0</td>\n",
       "      <td>23240.0</td>\n",
       "      <td>1116.319580</td>\n",
       "      <td>7995650.0</td>\n",
       "    </tr>\n",
       "    <tr>\n",
       "      <th>1</th>\n",
       "      <td>2016-01-26</td>\n",
       "      <td>23100.0</td>\n",
       "      <td>23140.0</td>\n",
       "      <td>22720.0</td>\n",
       "      <td>22740.0</td>\n",
       "      <td>1092.302368</td>\n",
       "      <td>7619950.0</td>\n",
       "    </tr>\n",
       "    <tr>\n",
       "      <th>2</th>\n",
       "      <td>2016-01-27</td>\n",
       "      <td>22520.0</td>\n",
       "      <td>23500.0</td>\n",
       "      <td>22520.0</td>\n",
       "      <td>23500.0</td>\n",
       "      <td>1128.808350</td>\n",
       "      <td>13811850.0</td>\n",
       "    </tr>\n",
       "    <tr>\n",
       "      <th>3</th>\n",
       "      <td>2016-01-28</td>\n",
       "      <td>23280.0</td>\n",
       "      <td>23360.0</td>\n",
       "      <td>22780.0</td>\n",
       "      <td>22900.0</td>\n",
       "      <td>1099.987793</td>\n",
       "      <td>15795600.0</td>\n",
       "    </tr>\n",
       "    <tr>\n",
       "      <th>4</th>\n",
       "      <td>2016-01-29</td>\n",
       "      <td>22800.0</td>\n",
       "      <td>23000.0</td>\n",
       "      <td>22320.0</td>\n",
       "      <td>23000.0</td>\n",
       "      <td>1104.791382</td>\n",
       "      <td>21849150.0</td>\n",
       "    </tr>\n",
       "  </tbody>\n",
       "</table>\n",
       "</div>"
      ],
      "text/plain": [
       "         Date     Open     High      Low    Close    Adj Close      Volume\n",
       "0  2016-01-25  23440.0  23520.0  23120.0  23240.0  1116.319580   7995650.0\n",
       "1  2016-01-26  23100.0  23140.0  22720.0  22740.0  1092.302368   7619950.0\n",
       "2  2016-01-27  22520.0  23500.0  22520.0  23500.0  1128.808350  13811850.0\n",
       "3  2016-01-28  23280.0  23360.0  22780.0  22900.0  1099.987793  15795600.0\n",
       "4  2016-01-29  22800.0  23000.0  22320.0  23000.0  1104.791382  21849150.0"
      ]
     },
     "execution_count": 269,
     "metadata": {},
     "output_type": "execute_result"
    }
   ],
   "source": [
    "data = pd.read_csv(\"data/005930.KS.csv\")\n",
    "data.head()"
   ]
  },
  {
   "cell_type": "code",
   "execution_count": 301,
   "metadata": {},
   "outputs": [
    {
     "data": {
      "text/html": [
       "<div>\n",
       "<style scoped>\n",
       "    .dataframe tbody tr th:only-of-type {\n",
       "        vertical-align: middle;\n",
       "    }\n",
       "\n",
       "    .dataframe tbody tr th {\n",
       "        vertical-align: top;\n",
       "    }\n",
       "\n",
       "    .dataframe thead th {\n",
       "        text-align: right;\n",
       "    }\n",
       "</style>\n",
       "<table border=\"1\" class=\"dataframe\">\n",
       "  <thead>\n",
       "    <tr style=\"text-align: right;\">\n",
       "      <th></th>\n",
       "      <th>Date</th>\n",
       "      <th>Open</th>\n",
       "      <th>High</th>\n",
       "      <th>Low</th>\n",
       "      <th>Close</th>\n",
       "      <th>Adj Close</th>\n",
       "      <th>Volume</th>\n",
       "    </tr>\n",
       "  </thead>\n",
       "  <tbody>\n",
       "    <tr>\n",
       "      <th>1220</th>\n",
       "      <td>2021-01-18</td>\n",
       "      <td>86600.0</td>\n",
       "      <td>87300.0</td>\n",
       "      <td>84100.0</td>\n",
       "      <td>85000.0</td>\n",
       "      <td>85000.0</td>\n",
       "      <td>43227951.0</td>\n",
       "    </tr>\n",
       "    <tr>\n",
       "      <th>1221</th>\n",
       "      <td>2021-01-19</td>\n",
       "      <td>84500.0</td>\n",
       "      <td>88000.0</td>\n",
       "      <td>83600.0</td>\n",
       "      <td>87000.0</td>\n",
       "      <td>87000.0</td>\n",
       "      <td>39895044.0</td>\n",
       "    </tr>\n",
       "    <tr>\n",
       "      <th>1222</th>\n",
       "      <td>2021-01-20</td>\n",
       "      <td>89000.0</td>\n",
       "      <td>89000.0</td>\n",
       "      <td>86500.0</td>\n",
       "      <td>87200.0</td>\n",
       "      <td>87200.0</td>\n",
       "      <td>25211127.0</td>\n",
       "    </tr>\n",
       "    <tr>\n",
       "      <th>1223</th>\n",
       "      <td>2021-01-21</td>\n",
       "      <td>87500.0</td>\n",
       "      <td>88600.0</td>\n",
       "      <td>86500.0</td>\n",
       "      <td>88100.0</td>\n",
       "      <td>88100.0</td>\n",
       "      <td>25318011.0</td>\n",
       "    </tr>\n",
       "    <tr>\n",
       "      <th>1224</th>\n",
       "      <td>2021-01-22</td>\n",
       "      <td>89000.0</td>\n",
       "      <td>89700.0</td>\n",
       "      <td>86800.0</td>\n",
       "      <td>86800.0</td>\n",
       "      <td>86800.0</td>\n",
       "      <td>30861661.0</td>\n",
       "    </tr>\n",
       "  </tbody>\n",
       "</table>\n",
       "</div>"
      ],
      "text/plain": [
       "            Date     Open     High      Low    Close  Adj Close      Volume\n",
       "1220  2021-01-18  86600.0  87300.0  84100.0  85000.0    85000.0  43227951.0\n",
       "1221  2021-01-19  84500.0  88000.0  83600.0  87000.0    87000.0  39895044.0\n",
       "1222  2021-01-20  89000.0  89000.0  86500.0  87200.0    87200.0  25211127.0\n",
       "1223  2021-01-21  87500.0  88600.0  86500.0  88100.0    88100.0  25318011.0\n",
       "1224  2021-01-22  89000.0  89700.0  86800.0  86800.0    86800.0  30861661.0"
      ]
     },
     "execution_count": 301,
     "metadata": {},
     "output_type": "execute_result"
    }
   ],
   "source": [
    "data.tail()"
   ]
  },
  {
   "cell_type": "markdown",
   "metadata": {},
   "source": [
    "# Compute Mid price"
   ]
  },
  {
   "cell_type": "code",
   "execution_count": 270,
   "metadata": {},
   "outputs": [],
   "source": [
    "high_prices = data['High'].values\n",
    "low_prices = data['Low'].values\n",
    "mid_prices = (high_prices + low_prices) / 2"
   ]
  },
  {
   "cell_type": "markdown",
   "metadata": {},
   "source": [
    "# Create Windows"
   ]
  },
  {
   "cell_type": "code",
   "execution_count": 292,
   "metadata": {},
   "outputs": [],
   "source": [
    "# recent 50 days - window size\n",
    "seq_len = 50\n",
    "# window size + 1(for prediction)\n",
    "sequence_length = seq_len + 1\n",
    "\n",
    "result = []\n",
    "for index in range(len(mid_prices) - sequence_length):\n",
    "    result.append(mid_prices[index: index + sequence_length])"
   ]
  },
  {
   "cell_type": "markdown",
   "metadata": {},
   "source": [
    "# Normalize Data"
   ]
  },
  {
   "cell_type": "code",
   "execution_count": 293,
   "metadata": {},
   "outputs": [
    {
     "data": {
      "text/plain": [
       "((1057, 50, 1), (117, 50, 1))"
      ]
     },
     "execution_count": 293,
     "metadata": {},
     "output_type": "execute_result"
    }
   ],
   "source": [
    "normalized_data = []\n",
    "for window in result:\n",
    "    # devide all data in windows by the first data and minus 1\n",
    "    # to set the first value 0\n",
    "    normalized_window = [((float(p) / float(window[0])) - 1) for p in window]\n",
    "    normalized_data.append(normalized_window)\n",
    "    \n",
    "result = np.array(normalized_data)\n",
    "\n",
    "# Split train and test data\n",
    "# use 90% of data as train\n",
    "row = int(round(result.shape[0] * 0.9))\n",
    "train = result[:row, :]\n",
    "np.random.shuffle(train)\n",
    "\n",
    "# put 50 obs in x_train\n",
    "x_train = train[:, :-1]\n",
    "x_train = np.reshape(x_train, (x_train.shape[0], x_train.shape[1], 1))\n",
    "# put 1 obs in y_train\n",
    "y_train = train[:, -1]\n",
    "\n",
    "# test is the same as train\n",
    "x_test = result[row:, :-1]\n",
    "x_test = np.reshape(x_test, (x_test.shape[0], x_test.shape[1], 1))\n",
    "y_test = result[row:, -1]\n",
    "\n",
    "x_train.shape, x_test.shape"
   ]
  },
  {
   "cell_type": "markdown",
   "metadata": {},
   "source": [
    "# Build a Model"
   ]
  },
  {
   "cell_type": "code",
   "execution_count": 294,
   "metadata": {},
   "outputs": [
    {
     "name": "stdout",
     "output_type": "stream",
     "text": [
      "Model: \"sequential_6\"\n",
      "_________________________________________________________________\n",
      "Layer (type)                 Output Shape              Param #   \n",
      "=================================================================\n",
      "lstm_12 (LSTM)               (None, 50, 50)            10400     \n",
      "_________________________________________________________________\n",
      "lstm_13 (LSTM)               (None, 64)                29440     \n",
      "_________________________________________________________________\n",
      "dense_6 (Dense)              (None, 1)                 65        \n",
      "=================================================================\n",
      "Total params: 39,905\n",
      "Trainable params: 39,905\n",
      "Non-trainable params: 0\n",
      "_________________________________________________________________\n"
     ]
    }
   ],
   "source": [
    "model = Sequential()\n",
    "\n",
    "model.add(LSTM(50, return_sequences=True, input_shape=(50, 1)))\n",
    "\n",
    "model.add(LSTM(64, return_sequences=False))\n",
    "\n",
    "model.add(Dense(1, activation='linear'))\n",
    "\n",
    "model.compile(loss='mse', optimizer='rmsprop')\n",
    "\n",
    "model.summary()"
   ]
  },
  {
   "cell_type": "markdown",
   "metadata": {},
   "source": [
    "# Training"
   ]
  },
  {
   "cell_type": "code",
   "execution_count": 295,
   "metadata": {},
   "outputs": [],
   "source": [
    "x_train = pd.DataFrame(x_train.squeeze(2)).fillna(0.0).values.reshape((x_train.shape[0], x_train.shape[1], 1))"
   ]
  },
  {
   "cell_type": "code",
   "execution_count": 296,
   "metadata": {},
   "outputs": [],
   "source": [
    "y_train = pd.DataFrame(y_train).fillna(0.0).values"
   ]
  },
  {
   "cell_type": "code",
   "execution_count": 299,
   "metadata": {},
   "outputs": [
    {
     "name": "stdout",
     "output_type": "stream",
     "text": [
      "Epoch 1/20\n",
      "106/106 [==============================] - 6s 32ms/step - loss: 0.0022 - val_loss: 0.0015\n",
      "Epoch 2/20\n",
      "106/106 [==============================] - 2s 17ms/step - loss: 9.9241e-04 - val_loss: 0.0020\n",
      "Epoch 3/20\n",
      "106/106 [==============================] - 2s 20ms/step - loss: 7.2910e-04 - val_loss: 0.0056\n",
      "Epoch 4/20\n",
      "106/106 [==============================] - 2s 21ms/step - loss: 7.6588e-04 - val_loss: 0.0013\n",
      "Epoch 5/20\n",
      "106/106 [==============================] - 2s 19ms/step - loss: 6.2692e-04 - val_loss: 7.0784e-04\n",
      "Epoch 6/20\n",
      "106/106 [==============================] - 2s 21ms/step - loss: 8.7493e-04 - val_loss: 0.0010\n",
      "Epoch 7/20\n",
      "106/106 [==============================] - 2s 22ms/step - loss: 5.7604e-04 - val_loss: 7.2970e-04\n",
      "Epoch 8/20\n",
      "106/106 [==============================] - 2s 19ms/step - loss: 4.6574e-04 - val_loss: 4.9901e-04\n",
      "Epoch 9/20\n",
      "106/106 [==============================] - 2s 22ms/step - loss: 4.7597e-04 - val_loss: 6.1622e-04\n",
      "Epoch 10/20\n",
      "106/106 [==============================] - 2s 19ms/step - loss: 5.7447e-04 - val_loss: 5.9379e-04\n",
      "Epoch 11/20\n",
      "106/106 [==============================] - 2s 18ms/step - loss: 5.4185e-04 - val_loss: 8.2411e-04\n",
      "Epoch 12/20\n",
      "106/106 [==============================] - 2s 21ms/step - loss: 5.1337e-04 - val_loss: 5.7217e-04\n",
      "Epoch 13/20\n",
      "106/106 [==============================] - 2s 19ms/step - loss: 3.4004e-04 - val_loss: 5.2046e-04\n",
      "Epoch 14/20\n",
      "106/106 [==============================] - 2s 18ms/step - loss: 5.7434e-04 - val_loss: 4.9162e-04\n",
      "Epoch 15/20\n",
      "106/106 [==============================] - 2s 21ms/step - loss: 4.4434e-04 - val_loss: 7.3019e-04\n",
      "Epoch 16/20\n",
      "106/106 [==============================] - 2s 19ms/step - loss: 5.1669e-04 - val_loss: 8.4580e-04\n",
      "Epoch 17/20\n",
      "106/106 [==============================] - 2s 18ms/step - loss: 4.3767e-04 - val_loss: 5.0003e-04\n",
      "Epoch 18/20\n",
      "106/106 [==============================] - 2s 20ms/step - loss: 4.5824e-04 - val_loss: 0.0013\n",
      "Epoch 19/20\n",
      "106/106 [==============================] - 2s 20ms/step - loss: 4.9858e-04 - val_loss: 5.8763e-04\n",
      "Epoch 20/20\n",
      "106/106 [==============================] - 2s 18ms/step - loss: 4.4022e-04 - val_loss: 4.6923e-04\n"
     ]
    },
    {
     "data": {
      "text/plain": [
       "<tensorflow.python.keras.callbacks.History at 0x13f505a6790>"
      ]
     },
     "execution_count": 299,
     "metadata": {},
     "output_type": "execute_result"
    }
   ],
   "source": [
    "model.fit(x_train, y_train,\n",
    "         validation_data = (x_test, y_test),\n",
    "         batch_size = 10,\n",
    "         epochs = 20)"
   ]
  },
  {
   "cell_type": "markdown",
   "metadata": {},
   "source": [
    "# Prediction"
   ]
  },
  {
   "cell_type": "code",
   "execution_count": 300,
   "metadata": {},
   "outputs": [
    {
     "data": {
      "image/png": "[encoded data removed]",
      "text/plain": [
       "<Figure size 432x288 with 1 Axes>"
      ]
     },
     "metadata": {},
     "output_type": "display_data"
    }
   ],
   "source": [
    "pred = model.predict(x_test)\n",
    "\n",
    "fig = plt.figure(facecolor='white')\n",
    "ax = fig.add_subplot(111)\n",
    "ax.plot(y_test, label='True')\n",
    "ax.plot(pred, label='Prediction')\n",
    "ax.legend()\n",
    "plt.show()"
   ]
  },
  {
   "cell_type": "code",
   "execution_count": null,
   "metadata": {},
   "outputs": [],
   "source": []
  }
 ],
 "metadata": {
  "kernelspec": {
   "display_name": "Python 3",
   "language": "python",
   "name": "python3"
  },
  "language_info": {
   "codemirror_mode": {
    "name": "ipython",
    "version": 3
   },
   "file_extension": ".py",
   "mimetype": "text/x-python",
   "name": "python",
   "nbconvert_exporter": "python",
   "pygments_lexer": "ipython3",
   "version": "3.8.3"
  }
 },
 "nbformat": 4,
 "nbformat_minor": 4
}
