{
 "cells": [
  {
   "cell_type": "code",
   "execution_count": 1,
   "metadata": {},
   "outputs": [],
   "source": [
    "import pandas as pd\n",
    "import numpy as np\n",
    "import matplotlib.pyplot as plt\n",
    "from keras.models import Sequential\n",
    "from keras.layers import LSTM, Dense, Activation\n",
    "import datetime"
   ]
  },
  {
   "cell_type": "markdown",
   "metadata": {},
   "source": [
    "# Load Dataset"
   ]
  },
  {
   "cell_type": "code",
   "execution_count": 16,
   "metadata": {},
   "outputs": [
    {
     "data": {
      "text/html": [
       "<div>\n",
       "<style scoped>\n",
       "    .dataframe tbody tr th:only-of-type {\n",
       "        vertical-align: middle;\n",
       "    }\n",
       "\n",
       "    .dataframe tbody tr th {\n",
       "        vertical-align: top;\n",
       "    }\n",
       "\n",
       "    .dataframe thead th {\n",
       "        text-align: right;\n",
       "    }\n",
       "</style>\n",
       "<table border=\"1\" class=\"dataframe\">\n",
       "  <thead>\n",
       "    <tr style=\"text-align: right;\">\n",
       "      <th></th>\n",
       "      <th>Date</th>\n",
       "      <th>Open</th>\n",
       "      <th>High</th>\n",
       "      <th>Low</th>\n",
       "      <th>Close</th>\n",
       "      <th>Volume</th>\n",
       "      <th>Market Cap</th>\n",
       "    </tr>\n",
       "  </thead>\n",
       "  <tbody>\n",
       "    <tr>\n",
       "      <th>0</th>\n",
       "      <td>23-Jan-20</td>\n",
       "      <td>$168.30</td>\n",
       "      <td>$168.31</td>\n",
       "      <td>$160.30</td>\n",
       "      <td>$162.93</td>\n",
       "      <td>$10,396,868,698</td>\n",
       "      <td>$17,824,835,899</td>\n",
       "    </tr>\n",
       "    <tr>\n",
       "      <th>1</th>\n",
       "      <td>24-Jan-20</td>\n",
       "      <td>$162.90</td>\n",
       "      <td>$164.31</td>\n",
       "      <td>$156.75</td>\n",
       "      <td>$163.05</td>\n",
       "      <td>$10,657,671,162</td>\n",
       "      <td>$17,840,465,424</td>\n",
       "    </tr>\n",
       "    <tr>\n",
       "      <th>2</th>\n",
       "      <td>25-Jan-20</td>\n",
       "      <td>$163.07</td>\n",
       "      <td>$163.23</td>\n",
       "      <td>$158.63</td>\n",
       "      <td>$161.28</td>\n",
       "      <td>$8,256,956,802</td>\n",
       "      <td>$17,649,296,256</td>\n",
       "    </tr>\n",
       "    <tr>\n",
       "      <th>3</th>\n",
       "      <td>26-Jan-20</td>\n",
       "      <td>$161.18</td>\n",
       "      <td>$168.22</td>\n",
       "      <td>$160.28</td>\n",
       "      <td>$168.08</td>\n",
       "      <td>$9,261,861,590</td>\n",
       "      <td>$18,394,952,135</td>\n",
       "    </tr>\n",
       "    <tr>\n",
       "      <th>4</th>\n",
       "      <td>27-Jan-20</td>\n",
       "      <td>$168.01</td>\n",
       "      <td>$172.92</td>\n",
       "      <td>$166.90</td>\n",
       "      <td>$170.93</td>\n",
       "      <td>$11,004,476,145</td>\n",
       "      <td>$18,709,615,891</td>\n",
       "    </tr>\n",
       "  </tbody>\n",
       "</table>\n",
       "</div>"
      ],
      "text/plain": [
       "        Date      Open      High       Low     Close            Volume  \\\n",
       "0  23-Jan-20  $168.30   $168.31   $160.30   $162.93   $10,396,868,698    \n",
       "1  24-Jan-20  $162.90   $164.31   $156.75   $163.05   $10,657,671,162    \n",
       "2  25-Jan-20  $163.07   $163.23   $158.63   $161.28    $8,256,956,802    \n",
       "3  26-Jan-20  $161.18   $168.22   $160.28   $168.08    $9,261,861,590    \n",
       "4  27-Jan-20  $168.01   $172.92   $166.90   $170.93   $11,004,476,145    \n",
       "\n",
       "         Market Cap  \n",
       "0  $17,824,835,899   \n",
       "1  $17,840,465,424   \n",
       "2  $17,649,296,256   \n",
       "3  $18,394,952,135   \n",
       "4  $18,709,615,891   "
      ]
     },
     "execution_count": 16,
     "metadata": {},
     "output_type": "execute_result"
    }
   ],
   "source": [
    "data = pd.read_csv(\"data/Ethereum.csv\")\n",
    "data.head()"
   ]
  },
  {
   "cell_type": "code",
   "execution_count": 17,
   "metadata": {},
   "outputs": [
    {
     "name": "stdout",
     "output_type": "stream",
     "text": [
      "<class 'pandas.core.frame.DataFrame'>\n",
      "RangeIndex: 366 entries, 0 to 365\n",
      "Data columns (total 7 columns):\n",
      " #   Column      Non-Null Count  Dtype \n",
      "---  ------      --------------  ----- \n",
      " 0   Date        366 non-null    object\n",
      " 1   Open        366 non-null    object\n",
      " 2   High        366 non-null    object\n",
      " 3   Low         366 non-null    object\n",
      " 4   Close       366 non-null    object\n",
      " 5   Volume      366 non-null    object\n",
      " 6   Market Cap  366 non-null    object\n",
      "dtypes: object(7)\n",
      "memory usage: 20.1+ KB\n"
     ]
    }
   ],
   "source": [
    "data.info()"
   ]
  },
  {
   "cell_type": "markdown",
   "metadata": {},
   "source": [
    "# Change Values"
   ]
  },
  {
   "cell_type": "code",
   "execution_count": 18,
   "metadata": {},
   "outputs": [],
   "source": [
    "for col in data.columns[1:]:\n",
    "    data[col] = data[col].map(lambda x:x.replace(\"$\", \"\"))\n",
    "    \n",
    "for col in data.columns[1:]:\n",
    "    data[col] = data[col].map(lambda x:x.replace(\",\", \"\"))\n",
    "\n",
    "for col in data.columns[1:]:\n",
    "    data[col] = data[col].map(lambda x:np.float(x))"
   ]
  },
  {
   "cell_type": "markdown",
   "metadata": {},
   "source": [
    "# Compute Mid price"
   ]
  },
  {
   "cell_type": "code",
   "execution_count": 21,
   "metadata": {},
   "outputs": [],
   "source": [
    "high_prices = data['High'].values\n",
    "low_prices = data['Low'].values\n",
    "mid_prices = (high_prices + low_prices) / 2"
   ]
  },
  {
   "cell_type": "markdown",
   "metadata": {},
   "source": [
    "# Create Windows"
   ]
  },
  {
   "cell_type": "code",
   "execution_count": 22,
   "metadata": {},
   "outputs": [],
   "source": [
    "# recent 50 days - window size\n",
    "seq_len = 50\n",
    "# window size + 1(for prediction)\n",
    "sequence_length = seq_len + 1\n",
    "\n",
    "result = []\n",
    "for index in range(len(mid_prices) - sequence_length):\n",
    "    result.append(mid_prices[index: index + sequence_length])"
   ]
  },
  {
   "cell_type": "markdown",
   "metadata": {},
   "source": [
    "# Normalize Data"
   ]
  },
  {
   "cell_type": "code",
   "execution_count": 23,
   "metadata": {},
   "outputs": [
    {
     "data": {
      "text/plain": [
       "((284, 50, 1), (31, 50, 1))"
      ]
     },
     "execution_count": 23,
     "metadata": {},
     "output_type": "execute_result"
    }
   ],
   "source": [
    "normalized_data = []\n",
    "for window in result:\n",
    "    # devide all data in windows by the first data and minus 1\n",
    "    # to set the first value 0\n",
    "    normalized_window = [((float(p) / float(window[0])) - 1) for p in window]\n",
    "    normalized_data.append(normalized_window)\n",
    "    \n",
    "result = np.array(normalized_data)\n",
    "\n",
    "# Split train and test data\n",
    "# use 90% of data as train\n",
    "row = int(round(result.shape[0] * 0.9))\n",
    "train = result[:row, :]\n",
    "np.random.shuffle(train)\n",
    "\n",
    "# put 50 obs in x_train\n",
    "x_train = train[:, :-1]\n",
    "x_train = np.reshape(x_train, (x_train.shape[0], x_train.shape[1], 1))\n",
    "# put 1 obs in y_train\n",
    "y_train = train[:, -1]\n",
    "\n",
    "# test is the same as train\n",
    "x_test = result[row:, :-1]\n",
    "x_test = np.reshape(x_test, (x_test.shape[0], x_test.shape[1], 1))\n",
    "y_test = result[row:, -1]\n",
    "\n",
    "x_train.shape, x_test.shape"
   ]
  },
  {
   "cell_type": "markdown",
   "metadata": {},
   "source": [
    "# Build a Model"
   ]
  },
  {
   "cell_type": "code",
   "execution_count": 24,
   "metadata": {},
   "outputs": [
    {
     "name": "stdout",
     "output_type": "stream",
     "text": [
      "Model: \"sequential\"\n",
      "_________________________________________________________________\n",
      "Layer (type)                 Output Shape              Param #   \n",
      "=================================================================\n",
      "lstm (LSTM)                  (None, 50, 50)            10400     \n",
      "_________________________________________________________________\n",
      "lstm_1 (LSTM)                (None, 64)                29440     \n",
      "_________________________________________________________________\n",
      "dense (Dense)                (None, 1)                 65        \n",
      "=================================================================\n",
      "Total params: 39,905\n",
      "Trainable params: 39,905\n",
      "Non-trainable params: 0\n",
      "_________________________________________________________________\n"
     ]
    }
   ],
   "source": [
    "model = Sequential()\n",
    "\n",
    "model.add(LSTM(50, return_sequences=True, input_shape=(50, 1)))\n",
    "\n",
    "model.add(LSTM(64, return_sequences=False))\n",
    "\n",
    "model.add(Dense(1, activation='linear'))\n",
    "\n",
    "model.compile(loss='mse', optimizer='rmsprop')\n",
    "\n",
    "model.summary()"
   ]
  },
  {
   "cell_type": "markdown",
   "metadata": {},
   "source": [
    "# Training"
   ]
  },
  {
   "cell_type": "code",
   "execution_count": 27,
   "metadata": {},
   "outputs": [],
   "source": [
    "# # run in case of nan values\n",
    "# x_train = pd.DataFrame(x_train.squeeze(2)).fillna(0.0).values.reshape((x_train.shape[0], x_train.shape[1], 1))\n",
    "# y_train = pd.DataFrame(y_train).fillna(0.0).values"
   ]
  },
  {
   "cell_type": "code",
   "execution_count": 28,
   "metadata": {},
   "outputs": [
    {
     "name": "stdout",
     "output_type": "stream",
     "text": [
      "Epoch 1/20\n",
      "29/29 [==============================] - 5s 47ms/step - loss: 0.0415 - val_loss: 0.1506\n",
      "Epoch 2/20\n",
      "29/29 [==============================] - 1s 19ms/step - loss: 0.0121 - val_loss: 0.2186\n",
      "Epoch 3/20\n",
      "29/29 [==============================] - 1s 19ms/step - loss: 0.0110 - val_loss: 0.0605\n",
      "Epoch 4/20\n",
      "29/29 [==============================] - 1s 22ms/step - loss: 0.0087 - val_loss: 0.0636\n",
      "Epoch 5/20\n",
      "29/29 [==============================] - 1s 21ms/step - loss: 0.0076 - val_loss: 0.0650\n",
      "Epoch 6/20\n",
      "29/29 [==============================] - 1s 18ms/step - loss: 0.0125 - val_loss: 0.0588\n",
      "Epoch 7/20\n",
      "29/29 [==============================] - 1s 19ms/step - loss: 0.0069 - val_loss: 0.0691\n",
      "Epoch 8/20\n",
      "29/29 [==============================] - 1s 22ms/step - loss: 0.0058 - val_loss: 0.0370\n",
      "Epoch 9/20\n",
      "29/29 [==============================] - 1s 19ms/step - loss: 0.0074 - val_loss: 0.0772\n",
      "Epoch 10/20\n",
      "29/29 [==============================] - 1s 19ms/step - loss: 0.0060 - val_loss: 0.0288\n",
      "Epoch 11/20\n",
      "29/29 [==============================] - 1s 19ms/step - loss: 0.0058 - val_loss: 0.0360\n",
      "Epoch 12/20\n",
      "29/29 [==============================] - 1s 19ms/step - loss: 0.0046 - val_loss: 0.0489\n",
      "Epoch 13/20\n",
      "29/29 [==============================] - 1s 20ms/step - loss: 0.0044 - val_loss: 0.0318\n",
      "Epoch 14/20\n",
      "29/29 [==============================] - 1s 24ms/step - loss: 0.0041 - val_loss: 0.0243\n",
      "Epoch 15/20\n",
      "29/29 [==============================] - 1s 22ms/step - loss: 0.0034 - val_loss: 0.0202\n",
      "Epoch 16/20\n",
      "29/29 [==============================] - 1s 19ms/step - loss: 0.0030 - val_loss: 0.0191\n",
      "Epoch 17/20\n",
      "29/29 [==============================] - 1s 20ms/step - loss: 0.0036 - val_loss: 0.0201\n",
      "Epoch 18/20\n",
      "29/29 [==============================] - 1s 20ms/step - loss: 0.0026 - val_loss: 0.0337\n",
      "Epoch 19/20\n",
      "29/29 [==============================] - 1s 19ms/step - loss: 0.0022 - val_loss: 0.0195\n",
      "Epoch 20/20\n",
      "29/29 [==============================] - 1s 19ms/step - loss: 0.0022 - val_loss: 0.0255\n"
     ]
    },
    {
     "data": {
      "text/plain": [
       "<tensorflow.python.keras.callbacks.History at 0x16aff81bfd0>"
      ]
     },
     "execution_count": 28,
     "metadata": {},
     "output_type": "execute_result"
    }
   ],
   "source": [
    "model.fit(x_train, y_train,\n",
    "         validation_data = (x_test, y_test),\n",
    "         batch_size = 10,\n",
    "         epochs = 20)"
   ]
  },
  {
   "cell_type": "markdown",
   "metadata": {},
   "source": [
    "# Prediction"
   ]
  },
  {
   "cell_type": "code",
   "execution_count": 29,
   "metadata": {},
   "outputs": [
    {
     "data": {
      "image/png": "[encoded data removed]",
      "text/plain": [
       "<Figure size 432x288 with 1 Axes>"
      ]
     },
     "metadata": {},
     "output_type": "display_data"
    }
   ],
   "source": [
    "pred = model.predict(x_test)\n",
    "\n",
    "fig = plt.figure(facecolor='white')\n",
    "ax = fig.add_subplot(111)\n",
    "ax.plot(y_test, label='True')\n",
    "ax.plot(pred, label='Prediction')\n",
    "ax.legend()\n",
    "plt.show()"
   ]
  }
 ],
 "metadata": {
  "kernelspec": {
   "display_name": "Python 3",
   "language": "python",
   "name": "python3"
  },
  "language_info": {
   "codemirror_mode": {
    "name": "ipython",
    "version": 3
   },
   "file_extension": ".py",
   "mimetype": "text/x-python",
   "name": "python",
   "nbconvert_exporter": "python",
   "pygments_lexer": "ipython3",
   "version": "3.8.3"
  }
 },
 "nbformat": 4,
 "nbformat_minor": 4
}
